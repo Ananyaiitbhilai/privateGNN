{
 "cells": [
  {
   "cell_type": "code",
   "execution_count": 31,
   "metadata": {},
   "outputs": [],
   "source": [
    "# Open the text file and read the contents\n",
    "with open('accuracy_gapedp_fb_ep4.txt', 'r') as file:\n",
    "    lines = file.readlines()\n",
    "\n",
    "max_value = float('-inf')\n",
    "max_index = -1\n",
    "\n",
    "# Loop through each line\n",
    "for i, line in enumerate(lines):\n",
    "    # Extract the values from the line\n",
    "    values = [float(s) for s in line.split() if s.replace('.', '', 1).isdigit()]\n",
    "\n",
    "    # Check if the maximum value in the line is greater than the current maximum\n",
    "    if values and max(values) > max_value:\n",
    "        max_value = max([max(values), max_value])\n",
    "        max_index = i\n",
    "\n",
    "# Print the maximum value and its corresponding line index\n",
    "\n"
   ]
  },
  {
   "cell_type": "code",
   "execution_count": 32,
   "metadata": {},
   "outputs": [],
   "source": [
    "weight = [0.5, 1, 2, 4, 8, 16]\n",
    "weight_list = [None] * 3  # Initialize weight_list with None values\n",
    "\n",
    "all_lists = []\n",
    "for i in range(len(weight)):\n",
    "    weight_list[0] = weight[i]\n",
    "    for j in range(len(weight)):\n",
    "        weight_list[1] = weight[j]\n",
    "        for k in range(len(weight)):\n",
    "            weight_list[2] = weight[k]\n",
    "            all_lists.append(weight_list.copy())\n",
    "\n",
    "#print(all_lists)\n",
    "\n",
    "\n",
    "def simplify_ratios(lst):\n",
    "    ratios = []\n",
    "    for i in range(len(lst)):\n",
    "        for j in range(i+1, len(lst)):\n",
    "            ratio = []\n",
    "            for k in range(len(lst[i])):\n",
    "                if lst[j][k] == 0:\n",
    "                    continue\n",
    "                elif lst[i][k] == 0:\n",
    "                    ratio = None\n",
    "                    break\n",
    "                else:\n",
    "                    ratio.append(lst[j][k] / lst[i][k])\n",
    "            if ratio is not None and all(x == ratio[0] for x in ratio):\n",
    "                ratios.append((i,j,ratio[0]))\n",
    "    \n",
    "    result = []\n",
    "    used_indices = set()\n",
    "    for i in range(len(lst)):\n",
    "        if i not in used_indices:\n",
    "            result.append(lst[i])\n",
    "            for (j,k,ratio) in ratios:\n",
    "                if i == j and k not in used_indices and all(lst[i][x]*ratio == lst[k][x] for x in range(len(lst[i]))):\n",
    "                    used_indices.add(k)\n",
    "                elif i == k and j not in used_indices and all(lst[i][x]/ratio == lst[j][x] for x in range(len(lst[i]))):\n",
    "                    used_indices.add(j)\n",
    "    return result"
   ]
  },
  {
   "cell_type": "code",
   "execution_count": 33,
   "metadata": {},
   "outputs": [],
   "source": [
    "final_list = simplify_ratios(all_lists)"
   ]
  },
  {
   "cell_type": "code",
   "execution_count": 34,
   "metadata": {},
   "outputs": [
    {
     "data": {
      "text/plain": [
       "[[0.5, 0.5, 0.5],\n",
       " [0.5, 0.5, 1],\n",
       " [0.5, 0.5, 2],\n",
       " [0.5, 0.5, 4],\n",
       " [0.5, 0.5, 8],\n",
       " [0.5, 0.5, 16],\n",
       " [0.5, 1, 0.5],\n",
       " [0.5, 1, 1],\n",
       " [0.5, 1, 2],\n",
       " [0.5, 1, 4],\n",
       " [0.5, 1, 8],\n",
       " [0.5, 1, 16],\n",
       " [0.5, 2, 0.5],\n",
       " [0.5, 2, 1],\n",
       " [0.5, 2, 2],\n",
       " [0.5, 2, 4],\n",
       " [0.5, 2, 8],\n",
       " [0.5, 2, 16],\n",
       " [0.5, 4, 0.5],\n",
       " [0.5, 4, 1],\n",
       " [0.5, 4, 2],\n",
       " [0.5, 4, 4],\n",
       " [0.5, 4, 8],\n",
       " [0.5, 4, 16],\n",
       " [0.5, 8, 0.5],\n",
       " [0.5, 8, 1],\n",
       " [0.5, 8, 2],\n",
       " [0.5, 8, 4],\n",
       " [0.5, 8, 8],\n",
       " [0.5, 8, 16],\n",
       " [0.5, 16, 0.5],\n",
       " [0.5, 16, 1],\n",
       " [0.5, 16, 2],\n",
       " [0.5, 16, 4],\n",
       " [0.5, 16, 8],\n",
       " [0.5, 16, 16],\n",
       " [1, 0.5, 0.5],\n",
       " [1, 0.5, 1],\n",
       " [1, 0.5, 2],\n",
       " [1, 0.5, 4],\n",
       " [1, 0.5, 8],\n",
       " [1, 0.5, 16],\n",
       " [1, 1, 0.5],\n",
       " [1, 2, 0.5],\n",
       " [1, 4, 0.5],\n",
       " [1, 8, 0.5],\n",
       " [1, 16, 0.5],\n",
       " [2, 0.5, 0.5],\n",
       " [2, 0.5, 1],\n",
       " [2, 0.5, 2],\n",
       " [2, 0.5, 4],\n",
       " [2, 0.5, 8],\n",
       " [2, 0.5, 16],\n",
       " [2, 1, 0.5],\n",
       " [2, 2, 0.5],\n",
       " [2, 4, 0.5],\n",
       " [2, 8, 0.5],\n",
       " [2, 16, 0.5],\n",
       " [4, 0.5, 0.5],\n",
       " [4, 0.5, 1],\n",
       " [4, 0.5, 2],\n",
       " [4, 0.5, 4],\n",
       " [4, 0.5, 8],\n",
       " [4, 0.5, 16],\n",
       " [4, 1, 0.5],\n",
       " [4, 2, 0.5],\n",
       " [4, 4, 0.5],\n",
       " [4, 8, 0.5],\n",
       " [4, 16, 0.5],\n",
       " [8, 0.5, 0.5],\n",
       " [8, 0.5, 1],\n",
       " [8, 0.5, 2],\n",
       " [8, 0.5, 4],\n",
       " [8, 0.5, 8],\n",
       " [8, 0.5, 16],\n",
       " [8, 1, 0.5],\n",
       " [8, 2, 0.5],\n",
       " [8, 4, 0.5],\n",
       " [8, 8, 0.5],\n",
       " [8, 16, 0.5],\n",
       " [16, 0.5, 0.5],\n",
       " [16, 0.5, 1],\n",
       " [16, 0.5, 2],\n",
       " [16, 0.5, 4],\n",
       " [16, 0.5, 8],\n",
       " [16, 0.5, 16],\n",
       " [16, 1, 0.5],\n",
       " [16, 2, 0.5],\n",
       " [16, 4, 0.5],\n",
       " [16, 8, 0.5],\n",
       " [16, 16, 0.5]]"
      ]
     },
     "execution_count": 34,
     "metadata": {},
     "output_type": "execute_result"
    }
   ],
   "source": [
    "final_list"
   ]
  },
  {
   "cell_type": "code",
   "execution_count": 29,
   "metadata": {},
   "outputs": [
    {
     "data": {
      "text/plain": [
       "91"
      ]
     },
     "execution_count": 29,
     "metadata": {},
     "output_type": "execute_result"
    }
   ],
   "source": [
    "len(final_list)"
   ]
  },
  {
   "cell_type": "code",
   "execution_count": 36,
   "metadata": {},
   "outputs": [
    {
     "name": "stdout",
     "output_type": "stream",
     "text": [
      "Maximum value: 32.51\n",
      "Line index: 0\n",
      "best noise scale: [0.5, 0.5, 0.5]\n"
     ]
    }
   ],
   "source": [
    "print(f\"Maximum value: {max_value}\")\n",
    "print(f\"Line index: {max_index}\")\n",
    "print(\"best noise scale:\", all_lists[max_index])\n"
   ]
  },
  {
   "cell_type": "code",
   "execution_count": 16,
   "metadata": {},
   "outputs": [
    {
     "data": {
      "text/plain": [
       "[1, 1, 4]"
      ]
     },
     "execution_count": 16,
     "metadata": {},
     "output_type": "execute_result"
    }
   ],
   "source": [
    "all_lists[45]"
   ]
  },
  {
   "cell_type": "code",
   "execution_count": 17,
   "metadata": {},
   "outputs": [
    {
     "data": {
      "text/plain": [
       "[2, 2, 8]"
      ]
     },
     "execution_count": 17,
     "metadata": {},
     "output_type": "execute_result"
    }
   ],
   "source": [
    "all_lists[88]"
   ]
  },
  {
   "cell_type": "code",
   "execution_count": 18,
   "metadata": {},
   "outputs": [
    {
     "data": {
      "text/plain": [
       "[2, 2, 16]"
      ]
     },
     "execution_count": 18,
     "metadata": {},
     "output_type": "execute_result"
    }
   ],
   "source": [
    "all_lists[89]"
   ]
  }
 ],
 "metadata": {
  "interpreter": {
   "hash": "7ee95d886ad6a6863c7e39ed80d00f548f5e490ac5c36d2d9e2191de87ee4a11"
  },
  "kernelspec": {
   "display_name": "Python 3.9.13 64-bit ('base': conda)",
   "language": "python",
   "name": "python3"
  },
  "language_info": {
   "codemirror_mode": {
    "name": "ipython",
    "version": 3
   },
   "file_extension": ".py",
   "mimetype": "text/x-python",
   "name": "python",
   "nbconvert_exporter": "python",
   "pygments_lexer": "ipython3",
   "version": "3.9.13"
  },
  "orig_nbformat": 4
 },
 "nbformat": 4,
 "nbformat_minor": 2
}
